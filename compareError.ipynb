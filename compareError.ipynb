{
 "cells": [
  {
   "cell_type": "code",
   "execution_count": 2,
   "metadata": {},
   "outputs": [],
   "source": [
    "import numpy as np\n",
    "import matplotlib.pyplot as plt\n",
    "import os"
   ]
  },
  {
   "cell_type": "code",
   "execution_count": 15,
   "metadata": {},
   "outputs": [
    {
     "name": "stdout",
     "output_type": "stream",
     "text": [
      "Difference in error:\n",
      "M=4\n",
      "0.01: 0.0002387084186658995\n",
      "0.02: 0.0011535147818324248\n",
      "0.03: 0.0007993822692664854\n",
      "0.04: 0.001422662267810567\n",
      "M=5\n",
      "0.01: -0.00017117986611587567\n",
      "0.02: -8.269991908781832e-05\n",
      "0.03: 0.0018863352842324096\n",
      "0.04: 0.0009224402492014304\n",
      "M=6\n",
      "0.01: -5.3279020537533306e-05\n",
      "0.02: -0.00038416541253063867\n",
      "0.03: -0.00039393055779878526\n",
      "0.04: 0.0005408292385327904\n",
      "M=7\n",
      "0.01: -0.0001761814869250984\n",
      "0.02: 0.0006161832641611142\n",
      "0.03: 8.790822536801704e-05\n",
      "0.04: 0.0004572858152581162\n",
      "M=8\n",
      "0.01: -0.00046828511320732777\n",
      "0.02: -9.955410294691658e-05\n",
      "0.03: -0.000365429025968601\n",
      "0.04: -0.00039871136607351997\n"
     ]
    }
   ],
   "source": [
    "# M, Δt compared to M*2, Δt*2\n",
    "\n",
    "print(\"Difference in error:\")\n",
    "for M in range(4,9):\n",
    "    dir1 = os.path.join(os.getcwd(), 'M='+str(M))\n",
    "    err1 = np.load(os.path.join(dir1,\"error at t=50.npy\"))\n",
    "    dir2 = os.path.join(os.getcwd(), 'M='+str(M*2))\n",
    "    err2 = np.load(os.path.join(dir2,\"error at t=50.npy\"))\n",
    "    print('M='+str(M))\n",
    "    for i in range(4):\n",
    "        # print(err1[i])\n",
    "        # print(err2[2*i+1])\n",
    "        diff = err1[i]-err2[2*i+1]\n",
    "        print(\"0.0\" + str(i+1) + \": \" + str(diff))"
   ]
  },
  {
   "cell_type": "code",
   "execution_count": null,
   "metadata": {},
   "outputs": [],
   "source": []
  }
 ],
 "metadata": {
  "kernelspec": {
   "display_name": "Python 3",
   "language": "python",
   "name": "python3"
  },
  "language_info": {
   "codemirror_mode": {
    "name": "ipython",
    "version": 3
   },
   "file_extension": ".py",
   "mimetype": "text/x-python",
   "name": "python",
   "nbconvert_exporter": "python",
   "pygments_lexer": "ipython3",
   "version": "3.10.12"
  }
 },
 "nbformat": 4,
 "nbformat_minor": 2
}
